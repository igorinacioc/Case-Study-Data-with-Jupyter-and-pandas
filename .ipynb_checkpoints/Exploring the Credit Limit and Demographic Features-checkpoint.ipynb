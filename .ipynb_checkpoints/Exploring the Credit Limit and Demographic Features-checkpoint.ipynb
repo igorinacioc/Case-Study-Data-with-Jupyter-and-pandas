{
 "cells": [
  {
   "cell_type": "markdown",
   "id": "2be5c80a",
   "metadata": {},
   "source": [
    "#  Exploring the Credit Limit and Demographic Features\n",
    "\n",
    "\n",
    "Nesse exercício agora vamos começar a exploração de dados do limite de crédito e idade."
   ]
  },
  {
   "cell_type": "code",
   "execution_count": 1,
   "id": "762de587",
   "metadata": {},
   "outputs": [],
   "source": [
    "import pandas as pd"
   ]
  },
  {
   "cell_type": "code",
   "execution_count": 2,
   "id": "c62e1476",
   "metadata": {},
   "outputs": [],
   "source": [
    "import matplotlib.pyplot as plt #import plotting package"
   ]
  },
  {
   "cell_type": "code",
   "execution_count": 3,
   "id": "1e76944c",
   "metadata": {},
   "outputs": [],
   "source": [
    "#render plotting automatically\n",
    "%matplotlib inline"
   ]
  },
  {
   "cell_type": "code",
   "execution_count": 4,
   "id": "550a7668",
   "metadata": {},
   "outputs": [],
   "source": [
    "import matplotlib as mpl #additional plotting functionally"
   ]
  },
  {
   "cell_type": "code",
   "execution_count": 19,
   "id": "8aae12e1",
   "metadata": {},
   "outputs": [],
   "source": [
    "mpl.rcParams['figure.dpi'] = 100 # high resolution figures #No livro ele usou 400, mas fica grande demais, preferir dimimuir um pouco"
   ]
  },
  {
   "cell_type": "code",
   "execution_count": 20,
   "id": "9aeeb45e",
   "metadata": {},
   "outputs": [],
   "source": [
    "df_clean_2 = pd.read_csv('df_clean_2.csv')"
   ]
  },
  {
   "cell_type": "code",
   "execution_count": 21,
   "id": "4366996c",
   "metadata": {},
   "outputs": [
    {
     "data": {
      "text/plain": [
       "array([[<AxesSubplot:title={'center':'LIMIT_BAL'}>,\n",
       "        <AxesSubplot:title={'center':'AGE'}>]], dtype=object)"
      ]
     },
     "execution_count": 21,
     "metadata": {},
     "output_type": "execute_result"
    },
    {
     "data": {
      "image/png": "[encoded data removed]",
      "text/plain": [
       "<Figure size 640x480 with 2 Axes>"
      ]
     },
     "metadata": {},
     "output_type": "display_data"
    }
   ],
   "source": [
    "df_clean_2[['LIMIT_BAL','AGE']].hist()"
   ]
  },
  {
   "cell_type": "code",
   "execution_count": 22,
   "id": "86b1ef56",
   "metadata": {},
   "outputs": [
    {
     "data": {
      "text/html": [
       "<div>\n",
       "<style scoped>\n",
       "    .dataframe tbody tr th:only-of-type {\n",
       "        vertical-align: middle;\n",
       "    }\n",
       "\n",
       "    .dataframe tbody tr th {\n",
       "        vertical-align: top;\n",
       "    }\n",
       "\n",
       "    .dataframe thead th {\n",
       "        text-align: right;\n",
       "    }\n",
       "</style>\n",
       "<table border=\"1\" class=\"dataframe\">\n",
       "  <thead>\n",
       "    <tr style=\"text-align: right;\">\n",
       "      <th></th>\n",
       "      <th>LIMIT_BAL</th>\n",
       "      <th>AGE</th>\n",
       "    </tr>\n",
       "  </thead>\n",
       "  <tbody>\n",
       "    <tr>\n",
       "      <th>count</th>\n",
       "      <td>26664.000000</td>\n",
       "      <td>26664.000000</td>\n",
       "    </tr>\n",
       "    <tr>\n",
       "      <th>mean</th>\n",
       "      <td>167919.054905</td>\n",
       "      <td>35.505213</td>\n",
       "    </tr>\n",
       "    <tr>\n",
       "      <th>std</th>\n",
       "      <td>129839.453081</td>\n",
       "      <td>9.227442</td>\n",
       "    </tr>\n",
       "    <tr>\n",
       "      <th>min</th>\n",
       "      <td>10000.000000</td>\n",
       "      <td>21.000000</td>\n",
       "    </tr>\n",
       "    <tr>\n",
       "      <th>25%</th>\n",
       "      <td>50000.000000</td>\n",
       "      <td>28.000000</td>\n",
       "    </tr>\n",
       "    <tr>\n",
       "      <th>50%</th>\n",
       "      <td>140000.000000</td>\n",
       "      <td>34.000000</td>\n",
       "    </tr>\n",
       "    <tr>\n",
       "      <th>75%</th>\n",
       "      <td>240000.000000</td>\n",
       "      <td>41.000000</td>\n",
       "    </tr>\n",
       "    <tr>\n",
       "      <th>max</th>\n",
       "      <td>800000.000000</td>\n",
       "      <td>79.000000</td>\n",
       "    </tr>\n",
       "  </tbody>\n",
       "</table>\n",
       "</div>"
      ],
      "text/plain": [
       "           LIMIT_BAL           AGE\n",
       "count   26664.000000  26664.000000\n",
       "mean   167919.054905     35.505213\n",
       "std    129839.453081      9.227442\n",
       "min     10000.000000     21.000000\n",
       "25%     50000.000000     28.000000\n",
       "50%    140000.000000     34.000000\n",
       "75%    240000.000000     41.000000\n",
       "max    800000.000000     79.000000"
      ]
     },
     "execution_count": 22,
     "metadata": {},
     "output_type": "execute_result"
    }
   ],
   "source": [
    "df_clean_2[['LIMIT_BAL','AGE']].describe()"
   ]
  },
  {
   "cell_type": "markdown",
   "id": "a23e81c0",
   "metadata": {},
   "source": [
    "Os dados parecem fazer sentido, visto que o limite de crédito é acima de zero e que o mínimo é 10.000 na moeda NT Dollar, pois os dados são de Taiwan e o 1 U$ dólar equivale a 30 NT dollars. E olhando a Idade vemos que o valor mínimo é 21 anos que também faz sentido que ninguém abaixo dessa idade tenha uma conta de crédito."
   ]
  },
  {
   "cell_type": "code",
   "execution_count": 24,
   "id": "aa971ca2",
   "metadata": {},
   "outputs": [
    {
     "data": {
      "text/plain": [
       "EDUCATION\n",
       "2            12458\n",
       "1             9412\n",
       "3             4380\n",
       "5              245\n",
       "4              115\n",
       "6               43\n",
       "0               11\n",
       "dtype: int64"
      ]
     },
     "execution_count": 24,
     "metadata": {},
     "output_type": "execute_result"
    }
   ],
   "source": [
    "df_clean_2[['EDUCATION']].value_counts()"
   ]
  },
  {
   "cell_type": "markdown",
   "id": "ce58fb17",
   "metadata": {},
   "source": [
    "Ao olhar as informações acima percebemos que tem níveis de educação que não constam no data dictionary 0, 5, and 6 sendo que apenas temos as classificações:\n",
    "\n",
    "**Education (1 = graduate school; 2 =university; 3 = high school; 4 = others)**\n",
    "\n",
    "Conversando com nosso business partner foi informado que desconhece tais níveis e como eles não são muito relevante na composição do total da base podemos converter eles para categoria outros **4** que parece o mais apropriado."
   ]
  },
  {
   "cell_type": "code",
   "execution_count": 26,
   "id": "c327e040",
   "metadata": {},
   "outputs": [],
   "source": [
    "df_clean_2['EDUCATION'].replace(to_replace=[0,5,6], value=4, inplace=True)"
   ]
  },
  {
   "cell_type": "code",
   "execution_count": 27,
   "id": "45113bff",
   "metadata": {},
   "outputs": [
    {
     "data": {
      "text/plain": [
       "2    12458\n",
       "1     9412\n",
       "3     4380\n",
       "4      414\n",
       "Name: EDUCATION, dtype: int64"
      ]
     },
     "execution_count": 27,
     "metadata": {},
     "output_type": "execute_result"
    }
   ],
   "source": [
    "df_clean_2['EDUCATION'].value_counts()"
   ]
  },
  {
   "cell_type": "markdown",
   "id": "b37ff077",
   "metadata": {},
   "source": [
    "O comando **Inplace=True** siginifca que fizemos as alterações no DataFrame existente e não criamos um novo."
   ]
  },
  {
   "cell_type": "code",
   "execution_count": 28,
   "id": "7f3ac02c",
   "metadata": {},
   "outputs": [
    {
     "data": {
      "text/plain": [
       "2    14158\n",
       "1    12172\n",
       "3      286\n",
       "0       48\n",
       "Name: MARRIAGE, dtype: int64"
      ]
     },
     "execution_count": 28,
     "metadata": {},
     "output_type": "execute_result"
    }
   ],
   "source": [
    "df_clean_2['MARRIAGE'].value_counts()"
   ]
  },
  {
   "cell_type": "markdown",
   "id": "154157bc",
   "metadata": {},
   "source": [
    "Aqui novamente encontramos o mesmo problema o nível de educação, pois o valor 0 não consta no data dictionary:\n",
    "\n",
    "**1 = married; 2= single; 3 = others.**\n",
    "\n",
    "Nesse caso aplicaremos o mesmo critério e converteremos para **others**"
   ]
  },
  {
   "cell_type": "code",
   "execution_count": 30,
   "id": "36a38a7a",
   "metadata": {},
   "outputs": [],
   "source": [
    "df_clean_2['MARRIAGE'].replace(to_replace=0, value=3, inplace=True)"
   ]
  },
  {
   "cell_type": "code",
   "execution_count": 31,
   "id": "e6311f02",
   "metadata": {},
   "outputs": [
    {
     "data": {
      "text/plain": [
       "2    14158\n",
       "1    12172\n",
       "3      334\n",
       "Name: MARRIAGE, dtype: int64"
      ]
     },
     "execution_count": 31,
     "metadata": {},
     "output_type": "execute_result"
    }
   ],
   "source": [
    "df_clean_2['MARRIAGE'].value_counts()"
   ]
  },
  {
   "cell_type": "code",
   "execution_count": 32,
   "id": "c22e7ffd",
   "metadata": {},
   "outputs": [],
   "source": [
    "df_clean_2.to_csv('df_clean_2_01.csv', index= False)"
   ]
  },
  {
   "cell_type": "code",
   "execution_count": null,
   "id": "689df66f",
   "metadata": {},
   "outputs": [],
   "source": []
  }
 ],
 "metadata": {
  "kernelspec": {
   "display_name": "Python 3 (ipykernel)",
   "language": "python",
   "name": "python3"
  },
  "language_info": {
   "codemirror_mode": {
    "name": "ipython",
    "version": 3
   },
   "file_extension": ".py",
   "mimetype": "text/x-python",
   "name": "python",
   "nbconvert_exporter": "python",
   "pygments_lexer": "ipython3",
   "version": "3.8.2"
  }
 },
 "nbformat": 4,
 "nbformat_minor": 5
}
